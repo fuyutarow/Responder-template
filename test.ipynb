{
 "cells": [
  {
   "cell_type": "code",
   "execution_count": 13,
   "metadata": {},
   "outputs": [],
   "source": [
    "import pandas as pd\n",
    "\n",
    "text_list =  pd.read_csv('test_dodoits.csv', header=None)[0]\n",
    "\n",
    "dodoits = [\n",
    "    Dodoit(content=text)\n",
    "    for text in text_list\n",
    "]\n",
    "\n",
    "Dodoit.objects.bulk_create(dodoits)"
   ]
  },
  {
   "cell_type": "code",
   "execution_count": 43,
   "metadata": {},
   "outputs": [
    {
     "data": {
      "text/plain": [
       "<QuerySet [<Dodoit: Dodoit object (44d5aa22-78fe-4a10-8daa-5d2c959ca8bd)>, <Dodoit: Dodoit object (4a0d7613-9321-41fb-ba4b-be62b8862237)>, <Dodoit: Dodoit object (3fd422d6-bc08-4f88-8783-6ea17558cf06)>, <Dodoit: Dodoit object (0ef9d431-6f97-4256-b773-5331db867294)>, <Dodoit: Dodoit object (deb7db62-fab0-4a3e-9553-bbdde23ef99b)>, <Dodoit: Dodoit object (0d0a09dd-155f-41fc-a26f-6ee2dab5da45)>, <Dodoit: Dodoit object (8d88ed06-be91-4fbf-ae86-fd564f792b2e)>, <Dodoit: Dodoit object (48ac9566-cbb3-4fd3-a5ca-20958abe4ae2)>, <Dodoit: Dodoit object (a8b1c8f8-60d1-4a19-b51f-6d7b9010df3d)>, <Dodoit: Dodoit object (8c3fba2b-87da-4327-aad9-93b74f7f2887)>, <Dodoit: Dodoit object (9b50a191-d86f-4e27-b4f0-c61fc0b22be2)>, <Dodoit: Dodoit object (4423d830-3a0d-499c-a090-2980228e1c35)>, <Dodoit: Dodoit object (535a2bfe-e9d4-436d-a483-45ec1becc9e9)>, <Dodoit: Dodoit object (047b7a2f-18dd-47d8-9d64-48068548f7c7)>, <Dodoit: Dodoit object (c215315f-7886-45cc-8aef-86326bd489af)>, <Dodoit: Dodoit object (b145a97c-68c5-47bc-bb00-261c4527421d)>, <Dodoit: Dodoit object (30646d64-55d5-4d1f-9c58-2803912dda99)>, <Dodoit: Dodoit object (37d2f3ac-9656-434f-bbd2-dfdb732acbb1)>, <Dodoit: Dodoit object (c8dd12ab-100e-41ab-ba0a-af522a0a971a)>, <Dodoit: Dodoit object (40710ef9-bc11-4715-93c8-3393ea6a1644)>, '...(remaining elements truncated)...']>"
      ]
     },
     "execution_count": 43,
     "metadata": {},
     "output_type": "execute_result"
    }
   ],
   "source": [
    "Dodoit.objects.all()"
   ]
  },
  {
   "cell_type": "code",
   "execution_count": 1,
   "metadata": {
    "collapsed": true
   },
   "outputs": [],
   "source": [
    "import requests"
   ]
  },
  {
   "cell_type": "code",
   "execution_count": 7,
   "metadata": {},
   "outputs": [
    {
     "data": {
      "text/plain": [
       "{'data': {'createDodoit': {'dodoit': {'id': '0ef9d431-6f97-4256-b773-5331db867294'}}}}"
      ]
     },
     "execution_count": 7,
     "metadata": {},
     "output_type": "execute_result"
    }
   ],
   "source": [
    "query = '''\n",
    "mutation {\n",
    "    createDodoit(content: \"ひとり寂しく凍えて死のか　君と一緒に焼かれよか\") {\n",
    "        dodoit { id }  \n",
    "    }\n",
    "}\n",
    "'''\n",
    "r = requests.post(\n",
    "    url='http://localhost:5042/graphql',\n",
    "    json={ \"query\": query },\n",
    "    # headers={\"Content-Type\": \"application/json\"},\n",
    ")\n",
    "r.json()\n"
   ]
  },
  {
   "cell_type": "code",
   "execution_count": 2,
   "metadata": {},
   "outputs": [
    {
     "data": {
      "text/plain": [
       "{'errors': [{'message': 'Cannot query field \"Dodoit\" on type \"Query\". Did you mean \"dodoit\" or \"allDodoits\"?',\n",
       "   'locations': [{'line': 3, 'column': 3}]}]}"
      ]
     },
     "execution_count": 2,
     "metadata": {},
     "output_type": "execute_result"
    }
   ],
   "source": [
    "query = '''\n",
    "{\n",
    "  Dodoit(content: \"aka\") {\n",
    "      id\n",
    "  }\n",
    "}\n",
    "'''\n",
    "r = requests.get(\n",
    "    url='http://localhost:5042/graphql',\n",
    "    json={ \"query\": query },\n",
    "    # headers={\"Content-Type\": \"application/json\"},\n",
    ")\n",
    "r.json()\n"
   ]
  },
  {
   "cell_type": "markdown",
   "metadata": {},
   "source": [
    "# GraphQL examples"
   ]
  },
  {
   "cell_type": "code",
   "execution_count": 8,
   "metadata": {},
   "outputs": [
    {
     "data": {
      "text/plain": [
       "{'data': {'pokemon': {'attacks': {'special': [{'name': 'Discharge'},\n",
       "     {'name': 'Thunder'},\n",
       "     {'name': 'Thunderbolt'}]}}}}"
      ]
     },
     "execution_count": 8,
     "metadata": {},
     "output_type": "execute_result"
    }
   ],
   "source": [
    "query = \"\"\"\n",
    "{\n",
    "    pokemon(name: \"Pikachu\") {\n",
    "        attacks {\n",
    "            special {\n",
    "                name\n",
    "            }\n",
    "        }\n",
    "    }\n",
    "}\n",
    "\"\"\"\n",
    "\n",
    "r = requests.get(\n",
    "    url='https://graphql-pokemon.now.sh/',\n",
    "    json={'query':query},\n",
    ")\n",
    "\n",
    "r.json()"
   ]
  },
  {
   "cell_type": "code",
   "execution_count": 9,
   "metadata": {},
   "outputs": [
    {
     "data": {
      "text/plain": [
       "{'data': {'hello': 'Hello stranger'}}"
      ]
     },
     "execution_count": 9,
     "metadata": {},
     "output_type": "execute_result"
    }
   ],
   "source": [
    "# r = requests.get(\n",
    "r = requests.post(\n",
    "    url='http://localhost:5042/g/hello',\n",
    "    data='{ \"query\": \"{ hello }\" }',\n",
    "    headers={\"Content-Type\": \"application/json\"},\n",
    ")\n",
    "r.json()"
   ]
  },
  {
   "cell_type": "code",
   "execution_count": 10,
   "metadata": {},
   "outputs": [
    {
     "data": {
      "text/plain": [
       "{'data': {'hello': 'Hello oka'}}"
      ]
     },
     "execution_count": 10,
     "metadata": {},
     "output_type": "execute_result"
    }
   ],
   "source": [
    "query = '''\n",
    "{\n",
    "    hello(name: \"oka\")\n",
    "}\n",
    "'''\n",
    "r = requests.get(\n",
    "    url='http://localhost:5042/g/hello',\n",
    "    json={ \"query\": query },\n",
    "    # headers={\"Content-Type\": \"application/json\"},\n",
    ")\n",
    "r.json()"
   ]
  },
  {
   "cell_type": "code",
   "execution_count": 11,
   "metadata": {},
   "outputs": [
    {
     "data": {
      "text/plain": [
       "{'data': {'allTomatos': [{'id': '88869a62-a97d-4e74-8650-7c6ac4826cfd',\n",
       "    'name': 'aka'}]}}"
      ]
     },
     "execution_count": 11,
     "metadata": {},
     "output_type": "execute_result"
    }
   ],
   "source": [
    "query = '''\n",
    "{\n",
    "  allTomatos {\n",
    "    id\n",
    "    name\n",
    "  }\n",
    "}\n",
    "'''\n",
    "r = requests.get(\n",
    "    url='http://localhost:5042/graphql',\n",
    "    json={ \"query\": query },\n",
    "    # headers={\"Content-Type\": \"application/json\"},\n",
    ")\n",
    "r.json()\n"
   ]
  },
  {
   "cell_type": "code",
   "execution_count": 17,
   "metadata": {},
   "outputs": [
    {
     "data": {
      "text/plain": [
       "{'data': {'allTomatos': [{'id': '88869a62-a97d-4e74-8650-7c6ac4826cfd',\n",
       "    'name': 'aka'}]}}"
      ]
     },
     "execution_count": 17,
     "metadata": {},
     "output_type": "execute_result"
    }
   ],
   "source": [
    "query = '''\n",
    "{\n",
    "  allTomatos {\n",
    "    id\n",
    "    name\n",
    "  }\n",
    "}\n",
    "'''\n",
    "r = requests.get(\n",
    "    url='http://localhost:5042/graphql',\n",
    "    json={ \"query\": query },\n",
    "    # headers={\"Content-Type\": \"application/json\"},\n",
    ")\n",
    "r.json()\n"
   ]
  },
  {
   "cell_type": "code",
   "execution_count": 16,
   "metadata": {},
   "outputs": [
    {
     "data": {
      "text/plain": [
       "{'data': {'tomato': {'id': '88869a62-a97d-4e74-8650-7c6ac4826cfd'}}}"
      ]
     },
     "execution_count": 16,
     "metadata": {},
     "output_type": "execute_result"
    }
   ],
   "source": [
    "query = '''\n",
    "{\n",
    "  tomato(name: \"aka\") {\n",
    "      id\n",
    "  }\n",
    "}\n",
    "'''\n",
    "r = requests.get(\n",
    "    url='http://localhost:5042/graphql',\n",
    "    json={ \"query\": query },\n",
    "    # headers={\"Content-Type\": \"application/json\"},\n",
    ")\n",
    "r.json()\n"
   ]
  },
  {
   "cell_type": "code",
   "execution_count": 16,
   "metadata": {},
   "outputs": [
    {
     "data": {
      "text/plain": [
       "{'data': {'tomato': {'id': '88869a62-a97d-4e74-8650-7c6ac4826cfd'}}}"
      ]
     },
     "execution_count": 16,
     "metadata": {},
     "output_type": "execute_result"
    }
   ],
   "source": [
    "query = '''\n",
    "{\n",
    "    \n",
    "  tomato(name: \"aka\") {\n",
    "      id\n",
    "  }\n",
    "}\n",
    "'''\n",
    "r = requests.get(\n",
    "    url='http://localhost:5042/graphql',\n",
    "    json={ \"query\": query },\n",
    "    # headers={\"Content-Type\": \"application/json\"},\n",
    ")\n",
    "r.json()\n"
   ]
  },
  {
   "cell_type": "code",
   "execution_count": 25,
   "metadata": {},
   "outputs": [
    {
     "data": {
      "text/plain": [
       "{'errors': [{'message': 'Expected value of type \"VineType\" but got: Tomato.',\n",
       "   'locations': [{'line': 3, 'column': 5}]}],\n",
       " 'data': {'allTomatos': [None]}}"
      ]
     },
     "execution_count": 25,
     "metadata": {},
     "output_type": "execute_result"
    }
   ],
   "source": [
    "query = '''\n",
    "{\n",
    "    allTomatos {\n",
    "        id\n",
    "    }\n",
    "}\n",
    "'''\n",
    "r = requests.get(\n",
    "    url='http://localhost:5042/graphql',\n",
    "    json={ \"query\": query },\n",
    "    # headers={\"Content-Type\": \"application/json\"},\n",
    ")\n",
    "r.json()\n"
   ]
  },
  {
   "cell_type": "code",
   "execution_count": 32,
   "metadata": {},
   "outputs": [
    {
     "data": {
      "text/plain": [
       "{'data': {'vine': {'id': '960284ad-28bf-442f-9d95-79e261b49886',\n",
       "   'tomatoSet': [{'id': '88869a62-a97d-4e74-8650-7c6ac4826cfd',\n",
       "     'name': 'aka'}]}}}"
      ]
     },
     "execution_count": 32,
     "metadata": {},
     "output_type": "execute_result"
    }
   ],
   "source": [
    "query = '''\n",
    "{\n",
    "  vine(name: \"oka\") {\n",
    "      id \n",
    "      tomatoSet { id name }\n",
    "  }\n",
    "}\n",
    "'''\n",
    "r = requests.get(\n",
    "    url='http://localhost:5042/graphql',\n",
    "    json={ \"query\": query },\n",
    "    # headers={\"Content-Type\": \"application/json\"},\n",
    ")\n",
    "r.json()\n"
   ]
  },
  {
   "cell_type": "code",
   "execution_count": 39,
   "metadata": {},
   "outputs": [
    {
     "data": {
      "text/plain": [
       "{'data': {'allVines': [{'name': 'oka'},\n",
       "   {'name': 'ao'},\n",
       "   {'name': 'ao'},\n",
       "   {'name': 'ao'},\n",
       "   {'name': 'ao'},\n",
       "   {'name': 'migori'}]}}"
      ]
     },
     "execution_count": 39,
     "metadata": {},
     "output_type": "execute_result"
    }
   ],
   "source": [
    "query = '''\n",
    "{\n",
    "    allVines {\n",
    "        name\n",
    "    }\n",
    "}\n",
    "'''\n",
    "r = requests.get(\n",
    "    url='http://localhost:5042/graphql',\n",
    "    json={ \"query\": query },\n",
    "    # headers={\"Content-Type\": \"application/json\"},\n",
    ")\n",
    "r.json()\n"
   ]
  },
  {
   "cell_type": "code",
   "execution_count": 37,
   "metadata": {},
   "outputs": [
    {
     "data": {
      "text/plain": [
       "{'data': {'createVine': {'vine': {'name': 'migori'}}}}"
      ]
     },
     "execution_count": 37,
     "metadata": {},
     "output_type": "execute_result"
    }
   ],
   "source": [
    "query = '''\n",
    "mutation {\n",
    "    createVine(name: \"migori\") {\n",
    "        vine { name }  \n",
    "    }\n",
    "}\n",
    "'''\n",
    "r = requests.post(\n",
    "    url='http://localhost:5042/graphql',\n",
    "    json={ \"query\": query },\n",
    "    # headers={\"Content-Type\": \"application/json\"},\n",
    ")\n",
    "r.json()\n"
   ]
  },
  {
   "cell_type": "code",
   "execution_count": 37,
   "metadata": {},
   "outputs": [
    {
     "data": {
      "text/plain": [
       "{'data': {'createVine': {'vine': {'name': 'migori'}}}}"
      ]
     },
     "execution_count": 37,
     "metadata": {},
     "output_type": "execute_result"
    }
   ],
   "source": [
    "query = '''\n",
    "mutation {\n",
    "}\n",
    "'''\n",
    "r = requests.post(\n",
    "    url='http://localhost:5042/graphql',\n",
    "    json={ \"query\": query },\n",
    "    # headers={\"Content-Type\": \"application/json\"},\n",
    ")\n",
    "r.json()\n"
   ]
  },
  {
   "cell_type": "code",
   "execution_count": null,
   "metadata": {},
   "outputs": [],
   "source": []
  }
 ],
 "metadata": {
  "kernelspec": {
   "display_name": "Django Shell-Plus",
   "language": "python",
   "name": "django_extensions"
  },
  "language_info": {
   "codemirror_mode": {
    "name": "ipython",
    "version": 3
   },
   "file_extension": ".py",
   "mimetype": "text/x-python",
   "name": "python",
   "nbconvert_exporter": "python",
   "pygments_lexer": "ipython3",
   "version": "3.7.2"
  }
 },
 "nbformat": 4,
 "nbformat_minor": 2
}
