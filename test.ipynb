{
 "cells": [
  {
   "cell_type": "code",
   "execution_count": 1,
   "metadata": {},
   "outputs": [],
   "source": [
    "# from api.models import Tomato\n",
    "# from api.models import Vine"
   ]
  },
  {
   "cell_type": "code",
   "execution_count": 2,
   "metadata": {
    "scrolled": true
   },
   "outputs": [
    {
     "data": {
      "text/plain": [
       "<QuerySet []>"
      ]
     },
     "execution_count": 2,
     "metadata": {},
     "output_type": "execute_result"
    }
   ],
   "source": [
    "Tomato.objects.all()"
   ]
  },
  {
   "cell_type": "code",
   "execution_count": 4,
   "metadata": {
    "scrolled": true
   },
   "outputs": [],
   "source": [
    "vine = Vine.objects.create(name='oka')"
   ]
  },
  {
   "cell_type": "code",
   "execution_count": 5,
   "metadata": {},
   "outputs": [],
   "source": [
    "tomato = Tomato.objects.create(vine=vine, name='aka')"
   ]
  },
  {
   "cell_type": "code",
   "execution_count": 6,
   "metadata": {
    "scrolled": true
   },
   "outputs": [
    {
     "data": {
      "text/plain": [
       "<QuerySet [<Tomato: Tomato object (88869a62-a97d-4e74-8650-7c6ac4826cfd)>]>"
      ]
     },
     "execution_count": 6,
     "metadata": {},
     "output_type": "execute_result"
    }
   ],
   "source": [
    "Tomato.objects.all()"
   ]
  },
  {
   "cell_type": "code",
   "execution_count": 7,
   "metadata": {},
   "outputs": [],
   "source": [
    "import requests"
   ]
  },
  {
   "cell_type": "markdown",
   "metadata": {},
   "source": [
    "# GraphQL examples"
   ]
  },
  {
   "cell_type": "code",
   "execution_count": 8,
   "metadata": {},
   "outputs": [
    {
     "data": {
      "text/plain": [
       "{'data': {'pokemon': {'attacks': {'special': [{'name': 'Discharge'},\n",
       "     {'name': 'Thunder'},\n",
       "     {'name': 'Thunderbolt'}]}}}}"
      ]
     },
     "execution_count": 8,
     "metadata": {},
     "output_type": "execute_result"
    }
   ],
   "source": [
    "query = \"\"\"\n",
    "{\n",
    "    pokemon(name: \"Pikachu\") {\n",
    "        attacks {\n",
    "            special {\n",
    "                name\n",
    "            }\n",
    "        }\n",
    "    }\n",
    "}\n",
    "\"\"\"\n",
    "\n",
    "r = requests.get(\n",
    "    url='https://graphql-pokemon.now.sh/',\n",
    "    json={'query':query},\n",
    ")\n",
    "\n",
    "r.json()"
   ]
  },
  {
   "cell_type": "code",
   "execution_count": 9,
   "metadata": {},
   "outputs": [
    {
     "data": {
      "text/plain": [
       "{'data': {'hello': 'Hello stranger'}}"
      ]
     },
     "execution_count": 9,
     "metadata": {},
     "output_type": "execute_result"
    }
   ],
   "source": [
    "# r = requests.get(\n",
    "r = requests.post(\n",
    "    url='http://localhost:5042/g/hello',\n",
    "    data='{ \"query\": \"{ hello }\" }',\n",
    "    headers={\"Content-Type\": \"application/json\"},\n",
    ")\n",
    "r.json()"
   ]
  },
  {
   "cell_type": "code",
   "execution_count": 10,
   "metadata": {},
   "outputs": [
    {
     "data": {
      "text/plain": [
       "{'data': {'hello': 'Hello oka'}}"
      ]
     },
     "execution_count": 10,
     "metadata": {},
     "output_type": "execute_result"
    }
   ],
   "source": [
    "query = '''\n",
    "{\n",
    "    hello(name: \"oka\")\n",
    "}\n",
    "'''\n",
    "r = requests.get(\n",
    "    url='http://localhost:5042/g/hello',\n",
    "    json={ \"query\": query },\n",
    "    # headers={\"Content-Type\": \"application/json\"},\n",
    ")\n",
    "r.json()"
   ]
  },
  {
   "cell_type": "code",
   "execution_count": 11,
   "metadata": {},
   "outputs": [
    {
     "data": {
      "text/plain": [
       "{'data': {'allTomatos': [{'id': '88869a62-a97d-4e74-8650-7c6ac4826cfd',\n",
       "    'name': 'aka'}]}}"
      ]
     },
     "execution_count": 11,
     "metadata": {},
     "output_type": "execute_result"
    }
   ],
   "source": [
    "query = '''\n",
    "{\n",
    "  allTomatos {\n",
    "    id\n",
    "    name\n",
    "  }\n",
    "}\n",
    "'''\n",
    "r = requests.get(\n",
    "    url='http://localhost:5042/graphql',\n",
    "    json={ \"query\": query },\n",
    "    # headers={\"Content-Type\": \"application/json\"},\n",
    ")\n",
    "r.json()\n"
   ]
  },
  {
   "cell_type": "code",
   "execution_count": 17,
   "metadata": {},
   "outputs": [
    {
     "data": {
      "text/plain": [
       "{'data': {'allTomatos': [{'id': '88869a62-a97d-4e74-8650-7c6ac4826cfd',\n",
       "    'name': 'aka'}]}}"
      ]
     },
     "execution_count": 17,
     "metadata": {},
     "output_type": "execute_result"
    }
   ],
   "source": [
    "query = '''\n",
    "{\n",
    "  allTomatos {\n",
    "    id\n",
    "    name\n",
    "  }\n",
    "}\n",
    "'''\n",
    "r = requests.get(\n",
    "    url='http://localhost:5042/graphql',\n",
    "    json={ \"query\": query },\n",
    "    # headers={\"Content-Type\": \"application/json\"},\n",
    ")\n",
    "r.json()\n"
   ]
  },
  {
   "cell_type": "code",
   "execution_count": 16,
   "metadata": {},
   "outputs": [
    {
     "data": {
      "text/plain": [
       "{'data': {'tomato': {'id': '88869a62-a97d-4e74-8650-7c6ac4826cfd'}}}"
      ]
     },
     "execution_count": 16,
     "metadata": {},
     "output_type": "execute_result"
    }
   ],
   "source": [
    "query = '''\n",
    "{\n",
    "  tomato(name: \"aka\") {\n",
    "      id\n",
    "  }\n",
    "}\n",
    "'''\n",
    "r = requests.get(\n",
    "    url='http://localhost:5042/graphql',\n",
    "    json={ \"query\": query },\n",
    "    # headers={\"Content-Type\": \"application/json\"},\n",
    ")\n",
    "r.json()\n"
   ]
  },
  {
   "cell_type": "code",
   "execution_count": 16,
   "metadata": {},
   "outputs": [
    {
     "data": {
      "text/plain": [
       "{'data': {'tomato': {'id': '88869a62-a97d-4e74-8650-7c6ac4826cfd'}}}"
      ]
     },
     "execution_count": 16,
     "metadata": {},
     "output_type": "execute_result"
    }
   ],
   "source": [
    "query = '''\n",
    "{\n",
    "    \n",
    "  tomato(name: \"aka\") {\n",
    "      id\n",
    "  }\n",
    "}\n",
    "'''\n",
    "r = requests.get(\n",
    "    url='http://localhost:5042/graphql',\n",
    "    json={ \"query\": query },\n",
    "    # headers={\"Content-Type\": \"application/json\"},\n",
    ")\n",
    "r.json()\n"
   ]
  },
  {
   "cell_type": "code",
   "execution_count": 25,
   "metadata": {},
   "outputs": [
    {
     "data": {
      "text/plain": [
       "{'errors': [{'message': 'Expected value of type \"VineType\" but got: Tomato.',\n",
       "   'locations': [{'line': 3, 'column': 5}]}],\n",
       " 'data': {'allTomatos': [None]}}"
      ]
     },
     "execution_count": 25,
     "metadata": {},
     "output_type": "execute_result"
    }
   ],
   "source": [
    "query = '''\n",
    "{\n",
    "    allTomatos {\n",
    "        id\n",
    "    }\n",
    "}\n",
    "'''\n",
    "r = requests.get(\n",
    "    url='http://localhost:5042/graphql',\n",
    "    json={ \"query\": query },\n",
    "    # headers={\"Content-Type\": \"application/json\"},\n",
    ")\n",
    "r.json()\n"
   ]
  },
  {
   "cell_type": "code",
   "execution_count": 32,
   "metadata": {},
   "outputs": [
    {
     "data": {
      "text/plain": [
       "{'data': {'vine': {'id': '960284ad-28bf-442f-9d95-79e261b49886',\n",
       "   'tomatoSet': [{'id': '88869a62-a97d-4e74-8650-7c6ac4826cfd',\n",
       "     'name': 'aka'}]}}}"
      ]
     },
     "execution_count": 32,
     "metadata": {},
     "output_type": "execute_result"
    }
   ],
   "source": [
    "query = '''\n",
    "{\n",
    "  vine(name: \"oka\") {\n",
    "      id \n",
    "      tomatoSet { id name }\n",
    "  }\n",
    "}\n",
    "'''\n",
    "r = requests.get(\n",
    "    url='http://localhost:5042/graphql',\n",
    "    json={ \"query\": query },\n",
    "    # headers={\"Content-Type\": \"application/json\"},\n",
    ")\n",
    "r.json()\n"
   ]
  },
  {
   "cell_type": "code",
   "execution_count": 39,
   "metadata": {},
   "outputs": [
    {
     "data": {
      "text/plain": [
       "{'data': {'allVines': [{'name': 'oka'},\n",
       "   {'name': 'ao'},\n",
       "   {'name': 'ao'},\n",
       "   {'name': 'ao'},\n",
       "   {'name': 'ao'},\n",
       "   {'name': 'migori'}]}}"
      ]
     },
     "execution_count": 39,
     "metadata": {},
     "output_type": "execute_result"
    }
   ],
   "source": [
    "query = '''\n",
    "{\n",
    "    allVines {\n",
    "        name\n",
    "    }\n",
    "}\n",
    "'''\n",
    "r = requests.get(\n",
    "    url='http://localhost:5042/graphql',\n",
    "    json={ \"query\": query },\n",
    "    # headers={\"Content-Type\": \"application/json\"},\n",
    ")\n",
    "r.json()\n"
   ]
  },
  {
   "cell_type": "code",
   "execution_count": 37,
   "metadata": {},
   "outputs": [
    {
     "data": {
      "text/plain": [
       "{'data': {'createVine': {'vine': {'name': 'migori'}}}}"
      ]
     },
     "execution_count": 37,
     "metadata": {},
     "output_type": "execute_result"
    }
   ],
   "source": [
    "query = '''\n",
    "mutation {\n",
    "    createVine(name: \"migori\") {\n",
    "        vine { name }  \n",
    "    }\n",
    "}\n",
    "'''\n",
    "r = requests.post(\n",
    "    url='http://localhost:5042/graphql',\n",
    "    json={ \"query\": query },\n",
    "    # headers={\"Content-Type\": \"application/json\"},\n",
    ")\n",
    "r.json()\n"
   ]
  },
  {
   "cell_type": "code",
   "execution_count": 37,
   "metadata": {},
   "outputs": [
    {
     "data": {
      "text/plain": [
       "{'data': {'createVine': {'vine': {'name': 'migori'}}}}"
      ]
     },
     "execution_count": 37,
     "metadata": {},
     "output_type": "execute_result"
    }
   ],
   "source": [
    "query = '''\n",
    "mutation {\n",
    "}\n",
    "'''\n",
    "r = requests.post(\n",
    "    url='http://localhost:5042/graphql',\n",
    "    json={ \"query\": query },\n",
    "    # headers={\"Content-Type\": \"application/json\"},\n",
    ")\n",
    "r.json()\n"
   ]
  },
  {
   "cell_type": "code",
   "execution_count": null,
   "metadata": {},
   "outputs": [],
   "source": []
  }
 ],
 "metadata": {
  "kernelspec": {
   "display_name": "Django Shell-Plus",
   "language": "python",
   "name": "django_extensions"
  },
  "language_info": {
   "codemirror_mode": {
    "name": "ipython",
    "version": 3
   },
   "file_extension": ".py",
   "mimetype": "text/x-python",
   "name": "python",
   "nbconvert_exporter": "python",
   "pygments_lexer": "ipython3",
   "version": "3.7.2"
  }
 },
 "nbformat": 4,
 "nbformat_minor": 2
}
