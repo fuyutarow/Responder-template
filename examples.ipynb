{
 "cells": [
  {
   "cell_type": "code",
   "execution_count": 1,
   "metadata": {},
   "outputs": [],
   "source": [
    "import responder\n",
    "import requests\n",
    "\n",
    "import json"
   ]
  },
  {
   "cell_type": "code",
   "execution_count": 2,
   "metadata": {},
   "outputs": [
    {
     "data": {
      "text/plain": [
       "{'data': {'pokemon': {'attacks': {'special': [{'name': 'Discharge'},\n",
       "     {'name': 'Thunder'},\n",
       "     {'name': 'Thunderbolt'}]}}}}"
      ]
     },
     "execution_count": 2,
     "metadata": {},
     "output_type": "execute_result"
    }
   ],
   "source": [
    "query = \"\"\"\n",
    "{\n",
    "    pokemon(name: \"Pikachu\") {\n",
    "        attacks {\n",
    "            special {\n",
    "                name\n",
    "            }\n",
    "        }\n",
    "    }\n",
    "}\n",
    "\"\"\"\n",
    "\n",
    "r = requests.get(\n",
    "    url='https://graphql-pokemon.now.sh/',\n",
    "    json={'query':query},\n",
    ")\n",
    "\n",
    "r.json()"
   ]
  },
  {
   "cell_type": "code",
   "execution_count": 7,
   "metadata": {},
   "outputs": [
    {
     "name": "stdout",
     "output_type": "stream",
     "text": [
      "{\"errors\":[{\"message\":\"POST body sent invalid JSON.\",\"stack\":\"BadRequestError: POST body sent invalid JSON.\\n    at jsonEncodedParser (/home/nowuser/src/node_modules/express-graphql/dist/parseBody.js:97:34)\\n    at /home/nowuser/src/node_modules/express-graphql/dist/parseBody.js:143:22\\n    at invokeCallback (/home/nowuser/src/node_modules/raw-body/index.js:224:16)\\n    at done (/home/nowuser/src/node_modules/raw-body/index.js:213:7)\\n    at IncomingMessage.onEnd (/home/nowuser/src/node_modules/raw-body/index.js:275:7)\\n    at emitNone (events.js:105:13)\\n    at IncomingMessage.emit (events.js:207:7)\\n    at endReadableNT (_stream_readable.js:1045:12)\\n    at _combinedTickCallback (internal/process/next_tick.js:138:11)\\n    at process._tickCallback (internal/process/next_tick.js:180:9)\"}]}"
     ]
    },
    {
     "name": "stderr",
     "output_type": "stream",
     "text": [
      "  % Total    % Received % Xferd  Average Speed   Time    Time     Time  Current\n",
      "                                 Dload  Upload   Total   Spent    Left  Speed\n",
      "\r",
      "  0     0    0     0    0     0      0      0 --:--:-- --:--:-- --:--:--     0\r",
      "100   876  100   800  100    76   1230    116 --:--:-- --:--:-- --:--:--  1228\r",
      "100   876  100   800  100    76   1229    116 --:--:-- --:--:-- --:--:--  1228\n"
     ]
    }
   ],
   "source": [
    "%%bash\n",
    "curl \\\n",
    "  -X GET \\\n",
    "  -H \"Content-Type: application/json\" \\\n",
    "  --data '{ \"query\": \"{ pokemon(name: \"Pikachu\") { attacks { special { name } } } }\" }' \\\n",
    "  https://graphql-pokemon.now.sh/"
   ]
  },
  {
   "cell_type": "code",
   "execution_count": 17,
   "metadata": {},
   "outputs": [
    {
     "name": "stdout",
     "output_type": "stream",
     "text": [
      "{\"who\": \"oka\"}"
     ]
    },
    {
     "name": "stderr",
     "output_type": "stream",
     "text": [
      "  % Total    % Received % Xferd  Average Speed   Time    Time     Time  Current\n",
      "                                 Dload  Upload   Total   Spent    Left  Speed\n",
      "\r",
      "  0     0    0     0    0     0      0      0 --:--:-- --:--:-- --:--:--     0\r",
      "100    14  100    14    0     0   2161      0 --:--:-- --:--:-- --:--:--  2333\n"
     ]
    }
   ],
   "source": [
    "%%bash\n",
    "curl \\\n",
    "    -X GET \\\n",
    "    http://127.0.0.1:5042/hello/oka"
   ]
  },
  {
   "cell_type": "code",
   "execution_count": 22,
   "metadata": {},
   "outputs": [
    {
     "name": "stdout",
     "output_type": "stream",
     "text": [
      "{\"data\": {\"hello\": \"Hello stranger\"}}"
     ]
    },
    {
     "name": "stderr",
     "output_type": "stream",
     "text": [
      "  % Total    % Received % Xferd  Average Speed   Time    Time     Time  Current\n",
      "                                 Dload  Upload   Total   Spent    Left  Speed\n",
      "\r",
      "  0     0    0     0    0     0      0      0 --:--:-- --:--:-- --:--:--     0\r",
      "100    61  100    37  100    24   4465   2896 --:--:-- --:--:-- --:--:--  4625\n"
     ]
    }
   ],
   "source": [
    "%%bash\n",
    "curl \\\n",
    "    -X GET \\\n",
    "    -H \"Content-Type: application/json\" \\\n",
    "    --data '{ \"query\": \"{ hello }\" }' \\\n",
    "    http://127.0.0.1:5042/graphql"
   ]
  },
  {
   "cell_type": "code",
   "execution_count": 28,
   "metadata": {},
   "outputs": [
    {
     "name": "stdout",
     "output_type": "stream",
     "text": [
      "{\"data\": {\"hello\": \"Hello stranger\"}}"
     ]
    },
    {
     "name": "stderr",
     "output_type": "stream",
     "text": [
      "  % Total    % Received % Xferd  Average Speed   Time    Time     Time  Current\n",
      "                                 Dload  Upload   Total   Spent    Left  Speed\n",
      "\r",
      "  0     0    0     0    0     0      0      0 --:--:-- --:--:-- --:--:--     0\r",
      "100    61  100    37  100    24   4876   3163 --:--:-- --:--:-- --:--:--  5285\n"
     ]
    }
   ],
   "source": [
    "%%bash\n",
    "curl \\\n",
    "    -X POST \\\n",
    "    -H \"Content-Type: application/json\" \\\n",
    "    --data '{ \"query\": \"{ hello }\" }' \\\n",
    "    http://127.0.0.1:5042/graphql"
   ]
  },
  {
   "cell_type": "code",
   "execution_count": 43,
   "metadata": {
    "scrolled": true
   },
   "outputs": [
    {
     "data": {
      "text/plain": [
       "{'data': {'hello': 'Hello stranger'}}"
      ]
     },
     "execution_count": 43,
     "metadata": {},
     "output_type": "execute_result"
    }
   ],
   "source": [
    "# r = requests.get(\n",
    "r = requests.post(\n",
    "    url='http://localhost:5042/graphql',\n",
    "    data='{ \"query\": \"{ hello }\" }',\n",
    "    headers={\"Content-Type\": \"application/json\"},\n",
    ")\n",
    "r.json()"
   ]
  },
  {
   "cell_type": "code",
   "execution_count": 29,
   "metadata": {
    "scrolled": true
   },
   "outputs": [
    {
     "name": "stdout",
     "output_type": "stream",
     "text": [
      "{\"success\": \"ok\"}\n"
     ]
    }
   ],
   "source": [
    "data = {'file': ('hello.txt', 'hello, world!', \"text/plain\")}\n",
    "r = requests.post('http://127.0.0.1:5042/', files=data)\n",
    "\n",
    "print(r.text)"
   ]
  },
  {
   "cell_type": "code",
   "execution_count": null,
   "metadata": {},
   "outputs": [],
   "source": []
  }
 ],
 "metadata": {
  "kernelspec": {
   "display_name": "Python 3",
   "language": "python",
   "name": "python3"
  },
  "language_info": {
   "codemirror_mode": {
    "name": "ipython",
    "version": 3
   },
   "file_extension": ".py",
   "mimetype": "text/x-python",
   "name": "python",
   "nbconvert_exporter": "python",
   "pygments_lexer": "ipython3",
   "version": "3.7.2"
  }
 },
 "nbformat": 4,
 "nbformat_minor": 2
}
